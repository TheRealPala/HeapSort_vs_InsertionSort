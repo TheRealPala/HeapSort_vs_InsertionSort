{
 "cells": [
  {
   "cell_type": "markdown",
   "metadata": {},
   "source": [
    "## Confronto tra Heap Sort e Insertion Sort\n"
   ]
  },
  {
   "cell_type": "markdown",
   "metadata": {},
   "source": [
    "Prima di partire con la trattazione teorica, includo preliminarmente tutte le librie utili al confronto dei due algoritmi di ordinamento "
   ]
  },
  {
   "cell_type": "code",
   "execution_count": 58,
   "metadata": {},
   "outputs": [],
   "source": [
    "import copy\n",
    "import time\n",
    "import matplotlib.pyplot as plt\n",
    "import math\n",
    "import random"
   ]
  },
  {
   "cell_type": "markdown",
   "metadata": {},
   "source": [
    "\n",
    "### Insertion Sort\n",
    "**Descizione**  \n",
    "Insertion Sort è un algoritmo di ordinamento molto semplice, ordina sul posto ed è utilizzato principalmente quando si ha necessità di ordinare un numero ristretto di elementi.  \n",
    "\n",
    "**Come funziona?**  \n",
    "\n",
    "Dato un array di elementi da ordinare, Insertion Sort usa un approccio molto intuitivo per ricavare l'array ordinato:  \n",
    "Partiziona l'array da ordinare in due sottoarray\n",
    "- Elementi ordinati\n",
    "- Elementi da ordinare  \n",
    "\n",
    "Inizialmente, nel sottoarray degli elementi ordinati c'è solamente il primo elemento dell'array da ordinare (essendo da solo, è per costruzione nella giusta posizione), mentre ricadono nel sottoarray non ordinato tutti gli altri elementi da dover ordinare.\n",
    "Viene poi preso ogni elemento dell'array da ordinare e confrontato con tutti i valori presenti nell'array ordinato fino a quando non si trova la posizione corretta per rispettare l'ordinamento. Si esegue questo procedimento per tutti i gli elementi presenti nel sottoarray da ordinare.  \n",
    "\n",
    "**Codice Insertion Sort**"
   ]
  },
  {
   "cell_type": "code",
   "execution_count": 59,
   "metadata": {},
   "outputs": [],
   "source": [
    "def insertion_sort(arr):\n",
    "    for i in range(1, len(arr)):\n",
    "        key = arr[i]\n",
    "        j = i - 1\n",
    "        while j >= 0 and key < arr[j]:\n",
    "            arr[j + 1] = arr[j]\n",
    "            j -= 1\n",
    "        arr[j + 1] = key\n",
    "    return arr"
   ]
  },
  {
   "cell_type": "markdown",
   "metadata": {},
   "source": [
    "**Cenni sull'analisi teorica delle prestazioni**"
   ]
  },
  {
   "cell_type": "markdown",
   "metadata": {},
   "source": [
    "**Supposizione iniziale:**  \n",
    "Sia n il numero di elementi dell'array da ordinare.\n",
    "\n",
    "**Caso ottimo**  \n",
    "Il caso ottimo per Insertion Sort è quando gli viene passato un array già ordinato, in quanto, non dovendo fare nessuno scambio tra elementi per garantire l'ordinamento globale, tutti valori dell'array vengono visitati solamente una volta, ottenndo così una complessità lineare.\n",
    "\n",
    "**Caso pessimo**\n",
    "Il caso pessimo per Insertion Sort si ha quando gli viene passato un array ordinato al contrario: in questo caso, si avranno il numero massimo di confronti possibili, ottenendo una complessità quadratica pari a $\\theta(n^2)$.  \n",
    "\n",
    "**Caso medio**  \n",
    "Si supponga adesso di passare ad Insertion Sort un array con la metà degli elementi ordinati e metà non ordinati. \n",
    "Intuitivamente, dovremo ordinare la metà degli elementi dell'array: questo porta sempre ad avere una complessità di tipo quadratico:$\\theta(n^2)$\n",
    "\n"
   ]
  },
  {
   "cell_type": "markdown",
   "metadata": {},
   "source": [
    "### Heap Sort\n",
    "**Descizione**  \n",
    "Heap Sort è un algoritmo di ordinamento sul posto particolarmente efficiente: garantisce un tempo di esecuzione pari a $O(n*log(n))$.  \n",
    "**Heap**  \n",
    "L'algoritmo prende il nome dalla struttura dati su cui si basa: l'heap. Solitamente viene memorizzato nel calcolatore usando un array ma, almeno a livello didattico, risulta più intuitivo visualizzarlo come albero binario quasi completo. L'heap è una struttura dati molto versatile ed usata in vari ambiti dell'informatica: uno tra tutti è la possibilità di implementare in maniera molto semplice code di priorità, usata, ad esempio, in alcune politche di scheduling dei processi da parte del kernel dei sistemi operativi.  \n",
    "Esistono due tipi di heap:  \n",
    "- *max-heap* \n",
    "- *min-heap*.    \n",
    "\n",
    "**In questa trattazione useremo il *max-heap***.  \n",
    " Tenendo a mente la rappresentazione di un heap tramite albero binario, si definisce max-heap un heap dove *ogni nodo ha un valore maggiore o uguale a quello dei suoi figli*.\n",
    " **Definizione:** In un max-heap, la radice dell'albero è l'elemento più grande di tutto l'array. \n",
    "\n",
    "La funzione che conserva la proprietà del *max-heap* si chiama **max-heapify** ed ha una complessità pari a $O(log(n))$.  \n",
    "**Pseudocodice Heapify:**  "
   ]
  },
  {
   "cell_type": "code",
   "execution_count": 60,
   "metadata": {},
   "outputs": [],
   "source": [
    "def maxHeapify(arr, length, i):\n",
    "    largest = i          \n",
    "    l = 2 * i + 1    #figlio sinistro  \n",
    "    r = 2 * i + 2    #figlio destro\n",
    "\n",
    "    if l < length and arr[i] < arr[l]:\n",
    "        largest = l\n",
    "    \n",
    "    if r < length and arr[largest] < arr[r]:\n",
    "        largest = r\n",
    "\n",
    "    if largest != i: #se qui dentro, la property heap è violata e chiamo ricorsivamente heapify\n",
    "        arr[i], arr[largest] = arr[largest], arr[i]\n",
    "        maxHeapify(arr, length, largest)"
   ]
  },
  {
   "cell_type": "markdown",
   "metadata": {},
   "source": [
    "**Costruire un max-heap**  \n",
    "Dato un array di elementi, per renderlo un max-heap bisogna eseguire il seguente algoritmo:  \n",
    "- Dividere l'array in due ed ottenere la prima metà (la seconda metà, nella rappresentazione come albero binario, sono foglie, e quindi non hanno figli).\n",
    "- Per ogni elemento appartenente alla prima metà dell'array ottenuta, chiamare la funzione max-heapify  "
   ]
  },
  {
   "cell_type": "code",
   "execution_count": 61,
   "metadata": {},
   "outputs": [],
   "source": [
    "def buildMaxHeap(arr, length):\n",
    "    for i in range(length // 2, -1, -1):\n",
    "        maxHeapify(arr, length, i)"
   ]
  },
  {
   "cell_type": "markdown",
   "metadata": {},
   "source": [
    "**Heap Sort**  \n",
    "L'heap sort non fa altro che eseguire questo algoritmo:  \n",
    "- Partendo dall'array da ordinare, usa la funzione buildMaxHeap per renderlo un max-heap\n",
    "- Iterativamente prende la radice dell' max-heap (per costruzione il valore più grande tra quelli da ordinare), la scambia con l'ultimo elemento dell'heap, diminuisce la dimensione dell'heap di uno e verifica di avere ancora una struttura dati che preserva la proprietà fondamentale dei max-heap usando maxHeapify.\n",
    "Continua ad andare avanti fino a quando a quando non arriva ad avere un heap con un solo valore.  \n",
    "\n",
    "**Analisi complessità**  \n",
    "Complessità maxHeapify: $O(log(n))$\n",
    "Heap Sort chiama maxHeapify n volte, quindi si avrà una complessità totale pari a $n * O(log(n)) = O(n*log(n)) $ \n",
    "\n"
   ]
  },
  {
   "cell_type": "code",
   "execution_count": 62,
   "metadata": {},
   "outputs": [],
   "source": [
    "def heap_sort(arr):\n",
    "    n = len(arr)\n",
    "\n",
    "    buildMaxHeap(arr, n)\n",
    "\n",
    "    for i in range(n - 1, 0, -1):\n",
    "        arr[i], arr[0] = arr[0], arr[i]  \n",
    "        maxHeapify(arr, i, 0) \n",
    "\n",
    "    return arr\n"
   ]
  },
  {
   "cell_type": "markdown",
   "metadata": {},
   "source": [
    "Per confrontare al meglio i due algoritmi, mi servirò di alcune funzioni ausliare:\n",
    "- generateUnorderedDataset è una funzione che, dato in input un numero n di valori, un limite superiore ed un limite inferiori di valori da poter generare restituisce un array riempito con n valori generati in maniera casuale e compresi tra i limiti specificati\n",
    "- testAlgorithm è una funzione che, dato un algoritmo di ordinamento e un array di valori da ordinare, esegue l'algoritmo di ordinamento sull'array misurando il suo tempo di esecuzione e lo restituisce\n",
    "- testAlgorithms è una funzione di appoggio che usa testAlgorithm per testare Insertion Sort ed Heap Sort su un dataset fornito in input e restituisce poi i tempi di esecuzione."
   ]
  },
  {
   "cell_type": "code",
   "execution_count": 63,
   "metadata": {},
   "outputs": [],
   "source": [
    "def generateUnorderdDataset(n, minValue, maxValue):\n",
    "    dataset = []\n",
    "    for _ in range(n):\n",
    "        dataset.append(random.randint(minValue, maxValue))\n",
    "    random.shuffle(dataset)\n",
    "    return dataset\n",
    "\n",
    "def testAlgorithm(algorithm, dataset):\n",
    "    start = time.time()\n",
    "    algorithm(copy.deepcopy(dataset))\n",
    "    end = time.time()\n",
    "    return (end - start)\n",
    "\n",
    "def testAlgorithms(dataset):\n",
    "    insertionSortTime = testAlgorithm(insertion_sort, dataset)\n",
    "    heapSortTime = testAlgorithm(heap_sort, dataset)\n",
    "    return insertionSortTime, heapSortTime"
   ]
  },
  {
   "cell_type": "markdown",
   "metadata": {},
   "source": [
    "Dedichiamoci adesso a programmare le funzioni per testare gli algoritmi con un numero variabile e crescente di elementi da ordinare e per vedere i risultati"
   ]
  },
  {
   "cell_type": "code",
   "execution_count": 64,
   "metadata": {},
   "outputs": [],
   "source": [
    "\n",
    "def runTests(config):\n",
    "    base = config['base']\n",
    "    minExp = config['minExp']\n",
    "    maxExp = config['maxExp']\n",
    "    results = {\n",
    "        'xValues': [],\n",
    "        'insertionSortTimes': [],\n",
    "        'heapSortTimes': []\n",
    "    }\n",
    "    for i in range(minExp, maxExp):\n",
    "        n = (int)(math.pow(base, i))\n",
    "        dataset = generateUnorderdDataset(n, config['minValue'], config['maxValue'])\n",
    "        insertionSortTime, heapSortTime = testAlgorithms(dataset)\n",
    "        results['xValues'].append(n)\n",
    "        results['insertionSortTimes'].append(insertionSortTime)\n",
    "        results['heapSortTimes'].append(heapSortTime)\n",
    "    return results\n",
    "\n",
    "def plotTests(results):\n",
    "    plt.plot(results['xValues'], results['insertionSortTimes'], label='Insertion Sort')\n",
    "    plt.plot(results['xValues'], results['heapSortTimes'], label='Heap Sort')\n",
    "    plt.xlabel('Numero elementi')\n",
    "    plt.ylabel('Tempo')\n",
    "    plt.title('Insertion Sort vs Heap Sort')\n",
    "    plt.legend()\n",
    "    plt.show()\n",
    "    "
   ]
  },
  {
   "cell_type": "markdown",
   "metadata": {},
   "source": [
    "Usiamo le funzioni non appena definite"
   ]
  },
  {
   "cell_type": "code",
   "execution_count": 65,
   "metadata": {},
   "outputs": [
    {
     "data": {
      "image/png": "[encoded data removed]",
      "text/plain": [
       "<Figure size 640x480 with 1 Axes>"
      ]
     },
     "metadata": {},
     "output_type": "display_data"
    }
   ],
   "source": [
    "config = {\n",
    "    'base': 2,\n",
    "    'minExp': 2,\n",
    "    'maxExp': 13,\n",
    "    'minValue' : -1000,\n",
    "    'maxValue' : 1000\n",
    "}\n",
    "results = runTests(config)\n",
    "plotTests(results)"
   ]
  },
  {
   "cell_type": "markdown",
   "metadata": {},
   "source": [
    "## Analisi dei risultati ottenuti\n",
    "\n",
    "Come si può dedurre dai risultati sperimentali ottenuti, Heap Sort, garantendo un tempo di esecuzione pari ad $O(n*log(n))$, all'aumentare dei valori di ordinare presenta circa sempre le stesse prestazioni. I risultati sperimentali sull'esecuzione di Insertion Sort, invece, confermano la complessità teorica di $\\Theta(n^2)$.\n",
    "Limitarsi però al mero confronto sulle prestazioni non permette di fornire un contesto completo sul confronto dei due algoritmi:\n",
    "Heap Sort, ad un primo sguardo, sembrerebbe una soluzione da preferire in maniera totale rispetto ad Insertion Sort, e questo risulta veritiero se, l'unico parametro di interesse è il tempo di esecuzione.   \n",
    "\n",
    "Insertion Sort, però, presenta un implementazione molto più semplice, risulta altrettanto valido a Heap Sort quando c'è necessità di ordinare numeri ridotti di elementi e, aspetto fondamentale, a differenza di Heap Sort **Insertion Sort** mantiene l'ordine relativo di elementi uguali, ovvero è un **algoritmo stabile**.\n",
    "  \n",
    "Credo sia quindi errato non prendere in considerazione Insertion Sort ed usare solamente Heap Sort: ogni problema di ordinamento è diverso e, a seconda dei parametri di interesse, può risultare più adatta l'implementazione di uno piuttosto che dell'altro."
   ]
  }
 ],
 "metadata": {
  "kernelspec": {
   "display_name": "Python 3",
   "language": "python",
   "name": "python3"
  },
  "language_info": {
   "codemirror_mode": {
    "name": "ipython",
    "version": 3
   },
   "file_extension": ".py",
   "mimetype": "text/x-python",
   "name": "python",
   "nbconvert_exporter": "python",
   "pygments_lexer": "ipython3",
   "version": "3.10.12"
  }
 },
 "nbformat": 4,
 "nbformat_minor": 2
}
